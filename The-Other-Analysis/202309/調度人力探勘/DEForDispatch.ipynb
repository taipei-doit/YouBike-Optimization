{
 "cells": [
  {
   "cell_type": "code",
   "execution_count": 1,
   "id": "0a9f8660",
   "metadata": {},
   "outputs": [],
   "source": [
    "import pandas as pd"
   ]
  },
  {
   "cell_type": "code",
   "execution_count": 2,
   "id": "4b4c482c",
   "metadata": {},
   "outputs": [],
   "source": [
    "data = pd.read_csv('dispatch_operation_log.csv')\n",
    "data['工作性質_姓名'] = data['工作性質'] + data['人員姓名']\n",
    "data['抵達時間'] = pd.to_datetime(data.抵達時間, format=\"%Y-%m-%d %H:%M:%S\")\n",
    "data['更新時間'] = pd.to_datetime(data.更新時間, format=\"%Y-%m-%d %H:%M:%S\")\n",
    "data['delta(sec)'] = (data['更新時間'] - data['抵達時間']).dt.total_seconds()"
   ]
  },
  {
   "cell_type": "code",
   "execution_count": 3,
   "id": "bf7f7299",
   "metadata": {
    "scrolled": true
   },
   "outputs": [
    {
     "name": "stdout",
     "output_type": "stream",
     "text": [
      "列數:  80860\n"
     ]
    }
   ],
   "source": [
    "print('列數: ', len(data))"
   ]
  },
  {
   "cell_type": "code",
   "execution_count": 4,
   "id": "ec7a9f94",
   "metadata": {},
   "outputs": [
    {
     "name": "stdout",
     "output_type": "stream",
     "text": [
      "去除重複後有幾個\n",
      "e.g.: 總共有 326 個調度員\n",
      "- - - - - - - - - - - - - - - - - - - - - - - - - - - - - - \n",
      "城市 1\n",
      "責任區 19\n",
      "責任群 689\n",
      "場站代號 1255\n",
      "場站名稱 1255\n",
      "平板裝置碼 128\n",
      "車輛號碼 80\n",
      "工作性質 2\n",
      "人員編號 326\n",
      "人員姓名 326\n",
      "工作狀態 12\n",
      "車輛數 149\n",
      "備註 24\n",
      "抵達時間 51975\n",
      "更新時間 59070\n",
      "工作性質_姓名 326\n",
      "delta(sec) 4128\n"
     ]
    }
   ],
   "source": [
    "print('去除重複後有幾個')\n",
    "print('e.g.: 總共有 326 個調度員')\n",
    "print('- '* 30)\n",
    "for col in list(data.columns):\n",
    "    print(col, len(data[col].unique()))"
   ]
  },
  {
   "cell_type": "code",
   "execution_count": 5,
   "id": "729459c6",
   "metadata": {},
   "outputs": [
    {
     "name": "stdout",
     "output_type": "stream",
     "text": [
      "有多少個空值\n",
      "- - - - - - - - - - - - - - - - - - - - - - - - - - - - - - \n"
     ]
    },
    {
     "data": {
      "text/plain": [
       "城市                0\n",
       "責任區               0\n",
       "責任群               0\n",
       "場站代號              0\n",
       "場站名稱              0\n",
       "平板裝置碼             0\n",
       "車輛號碼          27760\n",
       "工作性質              0\n",
       "人員編號              0\n",
       "人員姓名              0\n",
       "工作狀態              0\n",
       "車輛數               0\n",
       "備註            80796\n",
       "抵達時間              0\n",
       "更新時間              0\n",
       "工作性質_姓名           0\n",
       "delta(sec)        0\n",
       "dtype: int64"
      ]
     },
     "execution_count": 5,
     "metadata": {},
     "output_type": "execute_result"
    }
   ],
   "source": [
    "print('有多少個空值')\n",
    "print('- '* 30)\n",
    "data.isna().sum()"
   ]
  },
  {
   "cell_type": "code",
   "execution_count": 6,
   "id": "c8fea108",
   "metadata": {},
   "outputs": [
    {
     "name": "stdout",
     "output_type": "stream",
     "text": [
      "總共有 80860 個 operation\n",
      "- - - - - - - - - - - - - - - - - - - - - - - - - - - - - - \n",
      "每一個責任區有幾次 operation\n",
      "e.g.: ZA1這個責任區在七月總共有 7727 次的 operation\n",
      "- - - - - - - - - - - - - - - - - - - - - - - - - - - - - - \n",
      "    責任區  counts\n",
      "0   ZA1    7727\n",
      "1   ZA2    5354\n",
      "2   ZB1    3227\n",
      "3   ZB2    4311\n",
      "4   ZB3    3689\n",
      "5    ZC    3947\n",
      "6   ZD1    4771\n",
      "7   ZD2    3418\n",
      "8    ZE    5500\n",
      "9   ZH1    5781\n",
      "10  ZH2    7411\n",
      "11  ZI1    3464\n",
      "12  ZI2    4105\n",
      "13  ZJ1    1979\n",
      "14  ZJ2    1585\n",
      "15   ZN    7171\n",
      "16   ZP    3365\n",
      "17   ZU    2747\n",
      "18  維護所    1308\n",
      "- - - - - - - - - - - - - - - - - - - - - - - - - - - - - - \n",
      "一個責任區平均處理 4255.789473684211 個 operation\n",
      "中位數為 3947.0 個 operation\n"
     ]
    }
   ],
   "source": [
    "print('總共有', len(data), '個 operation')\n",
    "print('- '* 30)\n",
    "print('每一個責任區有幾次 operation')\n",
    "print('e.g.: ZA1這個責任區在七月總共有 7727 次的 operation')\n",
    "print('- '* 30)\n",
    "tem = data.groupby('責任區').size().reset_index(name='counts')\n",
    "print(tem)\n",
    "print('- '* 30)\n",
    "print('一個責任區平均處理', tem.counts.mean(), '個 operation')\n",
    "print('中位數為', tem.counts.median(), '個 operation')"
   ]
  },
  {
   "cell_type": "code",
   "execution_count": 7,
   "id": "809d490f",
   "metadata": {},
   "outputs": [
    {
     "name": "stdout",
     "output_type": "stream",
     "text": [
      "總共有 80860 個 operation\n",
      "- - - - - - - - - - - - - - - - - - - - - - - - - - - - - - \n",
      "每一組 (責任區, 責任群) 有幾次 operation\n",
      "e.g.: (ZA1, A1(嘉興公園)) 這組 (責任區, 責任群) 在七月總共有 219 次的 operation\n",
      "- - - - - - - - - - - - - - - - - - - - - - - - - - - - - - \n",
      "     責任區                   責任群  counts\n",
      "0    ZA1              A1(嘉興公園)     219\n",
      "1    ZA1             A10(泰和公園)     243\n",
      "2    ZA1         A11(泰和里民活動中心)     251\n",
      "3    ZA1      A12(捷運象山站(3號出口))     348\n",
      "4    ZA1  A13(捷運台北101(世貿站2號出口)     472\n",
      "..   ...                   ...     ...\n",
      "684   ZU           C6(內湖垃圾焚化廠)       7\n",
      "685   ZU          C7(康寧公園(北側))       9\n",
      "686   ZU         C8(康寧路三段54巷口)       3\n",
      "687   ZU            C9(東湖二號公園)      22\n",
      "688  維護所                   維護所    1308\n",
      "\n",
      "[689 rows x 3 columns]\n",
      "- - - - - - - - - - - - - - - - - - - - - - - - - - - - - - \n",
      "一組 (責任區, 責任群) 平均處理 117.35849056603773 個 operation\n",
      "中位數為 74.0 個 operation\n"
     ]
    }
   ],
   "source": [
    "print('總共有', len(data), '個 operation')\n",
    "print('- '* 30)\n",
    "print('每一組 (責任區, 責任群) 有幾次 operation')\n",
    "print('e.g.: (ZA1, A1(嘉興公園)) 這組 (責任區, 責任群) 在七月總共有 219 次的 operation')\n",
    "print('- '* 30)\n",
    "tem = data.groupby(['責任區', '責任群']).size().reset_index(name='counts')\n",
    "print(tem)\n",
    "print('- '* 30)\n",
    "print('一組 (責任區, 責任群) 平均處理', tem.counts.mean(), '個 operation')\n",
    "print('中位數為', tem.counts.median(), '個 operation')"
   ]
  },
  {
   "cell_type": "code",
   "execution_count": 8,
   "id": "9b52642d",
   "metadata": {},
   "outputs": [
    {
     "name": "stdout",
     "output_type": "stream",
     "text": [
      "每個責任區各自有幾個責任群\n",
      "e.g.: 責任區 ZA1 有 36 個責任群\n",
      "- - - - - - - - - - - - - - - - - - - - - - - - - - - - - - \n"
     ]
    },
    {
     "data": {
      "text/plain": [
       "責任區\n",
       "ZA1    36\n",
       "ZA2    38\n",
       "ZB1    25\n",
       "ZB2    20\n",
       "ZB3    21\n",
       "ZC     40\n",
       "ZD1    49\n",
       "ZD2    39\n",
       "ZE     45\n",
       "ZH1    29\n",
       "ZH2    34\n",
       "ZI1    48\n",
       "ZI2    51\n",
       "ZJ1    23\n",
       "ZJ2    23\n",
       "ZN     59\n",
       "ZP     45\n",
       "ZU     63\n",
       "維護所     1\n",
       "Name: 責任群, dtype: int64"
      ]
     },
     "execution_count": 8,
     "metadata": {},
     "output_type": "execute_result"
    }
   ],
   "source": [
    "print('每個責任區各自有幾個責任群')\n",
    "print('e.g.: 責任區 ZA1 有 36 個責任群')\n",
    "print('- '* 30)\n",
    "data.groupby('責任區')['責任群'].nunique()"
   ]
  },
  {
   "cell_type": "code",
   "execution_count": 9,
   "id": "0640622b",
   "metadata": {},
   "outputs": [
    {
     "name": "stdout",
     "output_type": "stream",
     "text": [
      "每組 (責任區, 責任群) 服務幾個場站\n",
      "e.g.: (ZB2, A1(捷運公館站(2號出口))) 服務了 4 個場站\n",
      "- - - - - - - - - - - - - - - - - - - - - - - - - - - - - - \n",
      "     責任區                責任群  場站代號\n",
      "688  維護所                維護所     7\n",
      "99   ZB2    A1(捷運公館站(2號出口))     4\n",
      "109  ZB2        B5(臺大鹿鳴堂東側)     3\n",
      "307   ZE         C4(稻香重三路口)     3\n",
      "250  ZD2   B3(捷運小南門站(1號出口))     3\n",
      "..   ...                ...   ...\n",
      "406  ZI1           B4(朝陽公園)     1\n",
      "39   ZA2          A12(林口公園)     1\n",
      "400  ZI1        B20(南京伊通街口)     1\n",
      "399  ZI1  B2(臺北科技大學(電機工程系))     1\n",
      "0    ZA1           A1(嘉興公園)     1\n",
      "\n",
      "[689 rows x 3 columns]\n"
     ]
    }
   ],
   "source": [
    "print('每組 (責任區, 責任群) 服務幾個場站')\n",
    "print('e.g.: (ZB2, A1(捷運公館站(2號出口))) 服務了 4 個場站')\n",
    "print('- '* 30)\n",
    "print(data.groupby(['責任區', '責任群'])['場站代號'].nunique().reset_index().sort_values(by='場站代號', ascending=False))"
   ]
  },
  {
   "cell_type": "code",
   "execution_count": 10,
   "id": "df428c86",
   "metadata": {},
   "outputs": [
    {
     "name": "stdout",
     "output_type": "stream",
     "text": [
      "總共有 12 種工作狀態\n",
      "分別為 {'調入', '綁車', '調出', '修復', '綁故障車', '解綁車', '解檔車位數', '故障車調入', '解故障車', '解檔板數', '檔板數', '檔車位數'}\n",
      "- - - - - - - - - - - - - - - - - - - - - - - - - - - - - - \n",
      "而每一種工作狀態各有幾次的 operation 如下\n",
      "工作狀態\n",
      "修復          15\n",
      "故障車調入       60\n",
      "檔板數          1\n",
      "檔車位數      4930\n",
      "綁故障車        46\n",
      "綁車       14960\n",
      "解故障車        42\n",
      "解檔板數         1\n",
      "解檔車位數     5027\n",
      "解綁車      15611\n",
      "調入       20910\n",
      "調出       19257\n",
      "dtype: int64\n"
     ]
    }
   ],
   "source": [
    "print('總共有 12 種工作狀態')\n",
    "print('分別為', set(data.工作狀態))\n",
    "print('- '* 30)\n",
    "print('而每一種工作狀態各有幾次的 operation 如下')\n",
    "print(data.groupby('工作狀態').size())"
   ]
  },
  {
   "cell_type": "code",
   "execution_count": 11,
   "id": "17f8c0bc",
   "metadata": {
    "scrolled": false
   },
   "outputs": [
    {
     "name": "stdout",
     "output_type": "stream",
     "text": [
      "總共有 80 台貨車\n",
      "- - - - - - - - - - - - - - - - - - - - - - - - - - - - - - \n",
      "有用到貨車的 operation 為 53100 次\n",
      "沒有用到貨車的 operation 為 27760 次\n",
      "- - - - - - - - - - - - - - - - - - - - - - - - - - - - - - \n",
      "工讀與正職的人數分別為\n",
      "工作性質\n",
      "工讀    130\n",
      "正職    196\n",
      "Name: 人員姓名, dtype: int64\n",
      "- - - - - - - - - - - - - - - - - - - - - - - - - - - - - - \n",
      "有用到貨車的情況下, 工讀跟正職處理的 operation 數分別為\n",
      "工作性質\n",
      "工讀     1205\n",
      "正職    51895\n",
      "dtype: int64\n",
      "- - - - - - - - - - - - - - - - - - - - - - - - - - - - - - \n",
      "沒有用到貨車的情況下, 工讀跟正職處理的 operation 數分別為\n",
      "工作性質\n",
      "工讀    27760\n",
      "dtype: int64\n",
      "- - - - - - - - - - - - - - - - - - - - - - - - - - - - - - \n",
      "正職所負責的工作狀態為 {'調入', '調出', '綁車', '修復', '綁故障車', '解綁車', '解檔車位數', '故障車調入', '解故障車', '解檔板數', '檔車位數'}\n",
      "正職沒有負責的工作狀態為 {'檔板數'}\n",
      "工讀所負責的工作狀態為 {'綁車', '調出', '調入', '綁故障車', '解綁車', '解檔車位數', '故障車調入', '解故障車', '檔板數', '檔車位數'}\n",
      "正職沒有負責的工作狀態為 {'修復', '解檔板數'}\n",
      "- - - - - - - - - - - - - - - - - - - - - - - - - - - - - - \n",
      "每輛貨車處理的 ’車輛數‘ 數量\n",
      "        車輛號碼    車輛數\n",
      "66  ZD1-0001     10\n",
      "67  ZD2-0001     10\n",
      "1   AGP-7251     31\n",
      "78   ZX-0001     58\n",
      "25  BBV-3681    104\n",
      "..       ...    ...\n",
      "51  RDX-6873  29623\n",
      "58  RFA-5500  33244\n",
      "44  BKP-0190  34430\n",
      "42  BKK-9183  35985\n",
      "48  BKP-3525  36601\n",
      "\n",
      "[79 rows x 2 columns]\n",
      "- - - - - - - - - - - - - - - - - - - - - - - - - - - - - - \n",
      "有用到貨車的情況下, 每個人處理的車輛數為\n",
      "    工作性質_姓名    車輛數\n",
      "4     工讀曾良穎      1\n",
      "18    工讀陳柏宇      2\n",
      "77     正職李玄      3\n",
      "68    正職李家杰     16\n",
      "8     工讀楊豐如     16\n",
      "..      ...    ...\n",
      "106   正職楊宇軒   9685\n",
      "27    正職余俊德   9814\n",
      "150   正職蕭世春  10034\n",
      "182   正職陳品希  10143\n",
      "204   正職陳鋼生  15176\n",
      "\n",
      "[222 rows x 2 columns]\n",
      "平均數為 2712.238738738739\n",
      "中位數為 614.0\n",
      "- - - - - - - - - - - - - - - - - - - - - - - - - - - - - - \n",
      "沒有用到貨車的情況下, 每個人處理的車輛數為\n",
      "   工作性質_姓名   車輛數\n",
      "44  工讀歐陽彥浚    10\n",
      "64   工讀藍文廷    19\n",
      "50   工讀王彩先    22\n",
      "81   工讀鄭進益   318\n",
      "84   工讀陳和豐   320\n",
      "..     ...   ...\n",
      "57   工讀胡義孝  5984\n",
      "49   工讀王哲鴻  6139\n",
      "48   工讀王勇盛  6142\n",
      "41   工讀楊秋雄  6924\n",
      "27   工讀李冠儒  7541\n",
      "\n",
      "[112 rows x 2 columns]\n",
      "平均數為 2653.9821428571427\n",
      "中位數為 2563.0\n",
      "- - - - - - - - - - - - - - - - - - - - - - - - - - - - - - \n",
      "有用到貨車的情況下, 每個人所處理的工作狀態的車輛數為\n",
      "    工作性質_姓名   工作狀態  車輛數\n",
      "0     工讀何書豪     綁車   20\n",
      "1     工讀何書豪    解綁車   10\n",
      "2     工讀何書豪     調入   48\n",
      "3     工讀冉忠禮     綁車    7\n",
      "4     工讀冉忠禮   解故障車    1\n",
      "..      ...    ...  ...\n",
      "943   正職黃銀瑩     綁車    4\n",
      "944   正職黃銀瑩  解檔車位數    3\n",
      "945   正職黃銀瑩    解綁車   21\n",
      "946   正職黃銀瑩     調入  124\n",
      "947   正職黃銀瑩     調出  138\n",
      "\n",
      "[948 rows x 3 columns]\n",
      "沒有用到貨車的情況下, 每個人所處理的工作狀態的車輛數為\n",
      "    工作性質_姓名   工作狀態   車輛數\n",
      "0     工讀丁蕙涼   檔車位數    69\n",
      "1     工讀丁蕙涼     綁車   969\n",
      "2     工讀丁蕙涼  解檔車位數    46\n",
      "3     工讀丁蕙涼    解綁車   812\n",
      "4      工讀何勇   檔車位數   621\n",
      "..      ...    ...   ...\n",
      "432   工讀黃柏翔    解綁車  1891\n",
      "433   工讀黃鈺衡   檔車位數    56\n",
      "434   工讀黃鈺衡     綁車   787\n",
      "435   工讀黃鈺衡  解檔車位數    26\n",
      "436   工讀黃鈺衡    解綁車   720\n",
      "\n",
      "[437 rows x 3 columns]\n",
      "- - - - - - - - - - - - - - - - - - - - - - - - - - - - - - \n"
     ]
    }
   ],
   "source": [
    "print('總共有', len(set(data.車輛號碼)), '台貨車')\n",
    "print('- '* 30)\n",
    "\n",
    "tem1 = data[data.車輛號碼.isna()]  # 車輛號碼為 NA\n",
    "tem2 = data[~data.車輛號碼.isna()] # 車輛號碼非 NA\n",
    "print('有用到貨車的 operation 為', len(tem2), '次')\n",
    "print('沒有用到貨車的 operation 為', len(tem1), '次')\n",
    "print('- '* 30)\n",
    "\n",
    "print('工讀與正職的人數分別為')\n",
    "print(data.groupby('工作性質')['人員姓名'].nunique())\n",
    "print('- '* 30)\n",
    "\n",
    "print('有用到貨車的情況下, 工讀跟正職處理的 operation 數分別為')\n",
    "print(tem2.groupby('工作性質').size())\n",
    "print('- '* 30)\n",
    "\n",
    "print('沒有用到貨車的情況下, 工讀跟正職處理的 operation 數分別為')\n",
    "print(tem1.groupby('工作性質').size())\n",
    "print('- '* 30)\n",
    "\n",
    "t1 = set(data[data.工作性質 == '正職'].工作狀態)\n",
    "t2 = set(data[data.工作性質 == '工讀'].工作狀態)\n",
    "t = set(data.工作狀態).difference()\n",
    "print('正職所負責的工作狀態為', t1)\n",
    "print('正職沒有負責的工作狀態為', t.difference(t1))\n",
    "print('工讀所負責的工作狀態為', t2)\n",
    "print('正職沒有負責的工作狀態為', t.difference(t2))\n",
    "print('- '* 30)\n",
    "\n",
    "print('每輛貨車處理的 ’車輛數‘ 數量')\n",
    "print(tem2.groupby('車輛號碼')['車輛數'].sum().reset_index().sort_values(by='車輛數'))\n",
    "print('- '* 30)\n",
    "\n",
    "print('有用到貨車的情況下, 每個人處理的車輛數為')\n",
    "print(tem2.groupby('工作性質_姓名')['車輛數'].sum().reset_index().sort_values(by='車輛數'))\n",
    "print('平均數為', tem2.groupby('工作性質_姓名')['車輛數'].sum().reset_index().車輛數.mean())\n",
    "print('中位數為', tem2.groupby('工作性質_姓名')['車輛數'].sum().reset_index().車輛數.median())\n",
    "print('- '* 30)\n",
    "\n",
    "print('沒有用到貨車的情況下, 每個人處理的車輛數為')\n",
    "print(tem1.groupby('工作性質_姓名')['車輛數'].sum().reset_index().sort_values(by='車輛數'))\n",
    "print('平均數為', tem1.groupby('工作性質_姓名')['車輛數'].sum().reset_index().車輛數.mean())\n",
    "print('中位數為', tem1.groupby('工作性質_姓名')['車輛數'].sum().reset_index().車輛數.median())\n",
    "print('- '* 30)\n",
    "\n",
    "print('有用到貨車的情況下, 每個人所處理的工作狀態的車輛數為')\n",
    "print(tem2.groupby(['工作性質_姓名', '工作狀態'])['車輛數'].sum().reset_index())\n",
    "print('沒有用到貨車的情況下, 每個人所處理的工作狀態的車輛數為')\n",
    "print(tem1.groupby(['工作性質_姓名', '工作狀態'])['車輛數'].sum().reset_index())\n",
    "print('- '* 30)\n",
    "\n"
   ]
  },
  {
   "cell_type": "code",
   "execution_count": 12,
   "id": "6126349c",
   "metadata": {},
   "outputs": [
    {
     "name": "stdout",
     "output_type": "stream",
     "text": [
      "每個工作狀態有幾次的 operation , 其中有多少次是沒有用到貨車的\n",
      "e.g.: 工作狀態`調出`有 19257 次的 operation, 其中有 4 次沒有用到貨車\n",
      "     工作狀態  num_operations  num_na\n",
      "0      修復              15       0\n",
      "1   故障車調入              60       1\n",
      "2     檔板數               1       1\n",
      "3    檔車位數            4930    4447\n",
      "4    綁故障車              46       3\n",
      "5      綁車           14960   13059\n",
      "6    解故障車              42       2\n",
      "7    解檔板數               1       0\n",
      "8   解檔車位數            5027    2335\n",
      "9     解綁車           15611    7900\n",
      "10     調入           20910       8\n",
      "11     調出           19257       4\n"
     ]
    }
   ],
   "source": [
    "print('每個工作狀態有幾次的 operation , 其中有多少次是沒有用到貨車的')\n",
    "print('e.g.: 工作狀態`調出`有 19257 次的 operation, 其中有 4 次沒有用到貨車')\n",
    "print(data.groupby('工作狀態').agg(\n",
    "    num_operations=('車輛號碼', lambda x: len(x)), \n",
    "    num_na=('車輛號碼', lambda x: x.isnull().sum())\n",
    ").reset_index())\n",
    "\n"
   ]
  },
  {
   "cell_type": "code",
   "execution_count": null,
   "id": "1ff5f36b",
   "metadata": {},
   "outputs": [],
   "source": []
  }
 ],
 "metadata": {
  "kernelspec": {
   "display_name": "Python 3 (ipykernel)",
   "language": "python",
   "name": "python3"
  },
  "language_info": {
   "codemirror_mode": {
    "name": "ipython",
    "version": 3
   },
   "file_extension": ".py",
   "mimetype": "text/x-python",
   "name": "python",
   "nbconvert_exporter": "python",
   "pygments_lexer": "ipython3",
   "version": "3.11.4"
  }
 },
 "nbformat": 4,
 "nbformat_minor": 5
}
